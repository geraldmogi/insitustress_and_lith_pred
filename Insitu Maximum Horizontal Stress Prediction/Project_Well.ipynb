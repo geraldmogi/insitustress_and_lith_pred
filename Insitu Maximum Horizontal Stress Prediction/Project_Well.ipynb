{
  "nbformat": 4,
  "nbformat_minor": 0,
  "metadata": {
    "colab": {
      "name": "Project Well",
      "provenance": [],
      "authorship_tag": "ABX9TyNopzSdT7tGNDaDHpPfFW7q",
      "include_colab_link": true
    },
    "kernelspec": {
      "name": "python3",
      "display_name": "Python 3"
    },
    "language_info": {
      "name": "python"
    }
  },
  "cells": [
    {
      "cell_type": "markdown",
      "metadata": {
        "id": "view-in-github",
        "colab_type": "text"
      },
      "source": [
        "<a href=\"https://colab.research.google.com/github/geraldmogi/insitustressprediction/blob/main/Project_Well.ipynb\" target=\"_parent\"><img src=\"https://colab.research.google.com/assets/colab-badge.svg\" alt=\"Open In Colab\"/></a>"
      ]
    },
    {
      "cell_type": "code",
      "execution_count": 93,
      "metadata": {
        "id": "suk-7ftA1J1B"
      },
      "outputs": [],
      "source": [
        "import numpy as np\n",
        "import pandas as pd\n",
        "import matplotlib.pyplot as plt\n",
        "import seaborn as sns\n",
        "from scipy import stats"
      ]
    },
    {
      "cell_type": "markdown",
      "source": [
        "# **1. IMPORT WELL DATA**"
      ],
      "metadata": {
        "id": "sEdw1c__6QGf"
      }
    },
    {
      "cell_type": "code",
      "source": [
        "url = 'https://raw.githubusercontent.com/geraldmogi/insitustressprediction/main/LostHillsX.csv'\n",
        "df_X = pd.read_csv(url)"
      ],
      "metadata": {
        "id": "XIuRjMZH5fEb"
      },
      "execution_count": 5,
      "outputs": []
    },
    {
      "cell_type": "code",
      "source": [
        "url_2 = 'https://raw.githubusercontent.com/geraldmogi/insitustressprediction/main/LostHillsY.csv'\n",
        "df_y = pd.read_csv(url_2)"
      ],
      "metadata": {
        "id": "htYyeQ9i53ob"
      },
      "execution_count": 6,
      "outputs": []
    },
    {
      "cell_type": "markdown",
      "source": [
        "# **2. VIEW DATA TYPE**"
      ],
      "metadata": {
        "id": "Ni6W4EFn6hSV"
      }
    },
    {
      "cell_type": "markdown",
      "source": [
        "As we can see the data type in df_X and df_Y are numeric data as we want. If the data is not in int or float then we have to convert it because in regression model we need to use numeric data type."
      ],
      "metadata": {
        "id": "5BpWGnwe60k1"
      }
    },
    {
      "cell_type": "code",
      "source": [
        "df_X.info()"
      ],
      "metadata": {
        "colab": {
          "base_uri": "https://localhost:8080/"
        },
        "id": "GVq8x1Mi6GxG",
        "outputId": "d4d9307e-c58f-405a-8fcd-4de98523468b"
      },
      "execution_count": 7,
      "outputs": [
        {
          "output_type": "stream",
          "name": "stdout",
          "text": [
            "<class 'pandas.core.frame.DataFrame'>\n",
            "RangeIndex: 167 entries, 0 to 166\n",
            "Data columns (total 12 columns):\n",
            " #   Column         Non-Null Count  Dtype  \n",
            "---  ------         --------------  -----  \n",
            " 0   DEPTH          167 non-null    int64  \n",
            " 1   Pore_Pressure  167 non-null    int64  \n",
            " 2   Density        167 non-null    float64\n",
            " 3   dt_comp        167 non-null    int64  \n",
            " 4   dt_shear       167 non-null    int64  \n",
            " 5   Porosity       167 non-null    float64\n",
            " 6   Vp             167 non-null    int64  \n",
            " 7   Vs             167 non-null    int64  \n",
            " 8   Edyn           167 non-null    int64  \n",
            " 9   PR             167 non-null    float64\n",
            " 10  Esta           167 non-null    int64  \n",
            " 11  E'sta          167 non-null    int64  \n",
            "dtypes: float64(3), int64(9)\n",
            "memory usage: 15.8 KB\n"
          ]
        }
      ]
    },
    {
      "cell_type": "code",
      "source": [
        "df_y.info()"
      ],
      "metadata": {
        "colab": {
          "base_uri": "https://localhost:8080/"
        },
        "id": "a71Cp9P06LJ_",
        "outputId": "58f162d0-adf6-4771-ce27-7b84ea5f3525"
      },
      "execution_count": 8,
      "outputs": [
        {
          "output_type": "stream",
          "name": "stdout",
          "text": [
            "<class 'pandas.core.frame.DataFrame'>\n",
            "RangeIndex: 167 entries, 0 to 166\n",
            "Data columns (total 3 columns):\n",
            " #   Column      Non-Null Count  Dtype\n",
            "---  ------      --------------  -----\n",
            " 0   Sv          167 non-null    int64\n",
            " 1   Sigma_v     167 non-null    int64\n",
            " 2   Sigma_Hmax  167 non-null    int64\n",
            "dtypes: int64(3)\n",
            "memory usage: 4.0 KB\n"
          ]
        }
      ]
    },
    {
      "cell_type": "markdown",
      "source": [
        "#**3. Train Test Split**"
      ],
      "metadata": {
        "id": "uUuLGlCB7Qw_"
      }
    },
    {
      "cell_type": "markdown",
      "source": [
        "Create train data and test data for our regression model. Train data will be used to train our regression model to study variables and correlations between variables to predict data. Test data is used to test our regression model."
      ],
      "metadata": {
        "id": "060uf1a57V1g"
      }
    },
    {
      "cell_type": "code",
      "source": [
        "from sklearn.model_selection import train_test_split"
      ],
      "metadata": {
        "id": "nehXYvUH6OCx"
      },
      "execution_count": 9,
      "outputs": []
    },
    {
      "cell_type": "code",
      "source": [
        "X = df_X\n",
        "y = df_y['Sigma_Hmax']"
      ],
      "metadata": {
        "id": "nqz4GGSB7u2k"
      },
      "execution_count": 10,
      "outputs": []
    },
    {
      "cell_type": "code",
      "source": [
        "X_train, X_test, y_train, y_test = train_test_split(X, y, test_size=0.3, random_state=2022)"
      ],
      "metadata": {
        "id": "lF0ofRtJ8Csm"
      },
      "execution_count": 11,
      "outputs": []
    },
    {
      "cell_type": "markdown",
      "source": [
        "#**4. Modelling**"
      ],
      "metadata": {
        "id": "7u-XB7Aw9aL8"
      }
    },
    {
      "cell_type": "code",
      "source": [
        "from sklearn.ensemble import RandomForestRegressor"
      ],
      "metadata": {
        "id": "UJg_PyHH9eKQ"
      },
      "execution_count": 16,
      "outputs": []
    },
    {
      "cell_type": "code",
      "source": [
        "default_model = RandomForestRegressor()"
      ],
      "metadata": {
        "id": "cmwgkryD9ecc"
      },
      "execution_count": 18,
      "outputs": []
    },
    {
      "cell_type": "code",
      "source": [
        "default_model.fit(X_train, y_train)"
      ],
      "metadata": {
        "colab": {
          "base_uri": "https://localhost:8080/"
        },
        "id": "xDzrKXrB-AKY",
        "outputId": "9def5b35-b62a-4082-8c2f-6f225dffa637"
      },
      "execution_count": 19,
      "outputs": [
        {
          "output_type": "execute_result",
          "data": {
            "text/plain": [
              "RandomForestRegressor()"
            ]
          },
          "metadata": {},
          "execution_count": 19
        }
      ]
    },
    {
      "cell_type": "code",
      "source": [
        "y_prediction = default_model.predict(X_test)"
      ],
      "metadata": {
        "id": "SeDocU1j-IcS"
      },
      "execution_count": 20,
      "outputs": []
    },
    {
      "cell_type": "markdown",
      "source": [
        "#**5. Evaluate Our Default Random Forest Regression Model**"
      ],
      "metadata": {
        "id": "znaaUpCp-Q7E"
      }
    },
    {
      "cell_type": "markdown",
      "source": [
        "Evaluate our regression model using the mean absolute error, Root Mean Square Error, and R2 metrics."
      ],
      "metadata": {
        "id": "9zWOJpb1-hq5"
      }
    },
    {
      "cell_type": "code",
      "source": [
        "from sklearn.metrics import mean_squared_error, mean_absolute_error, r2_score"
      ],
      "metadata": {
        "id": "nCBJm7zN-PYd"
      },
      "execution_count": 21,
      "outputs": []
    },
    {
      "cell_type": "code",
      "source": [
        "#Evaluation\n",
        "MAE = mean_absolute_error(y_test, y_prediction)\n",
        "RMSE = np.sqrt(mean_squared_error(y_test, y_prediction))\n",
        "R2 = r2_score(y_test, y_prediction)*100\n",
        "print(f'MAE:', MAE)\n",
        "print(f'RMSE:', RMSE)\n",
        "print(f'R2:', R2)\n",
        "print('\\n')\n",
        "\n",
        "#Plot\n",
        "plt.scatter(y_test, y_prediction, c='blue')\n",
        "m, b = np.polyfit(y_test, y_prediction, 1)\n",
        "plt.plot(y_test, m*y_test + b, label='y={:.2f}+{:.2f}'.format(m,b), c='red')\n",
        "plt.legend(fontsize=16)\n",
        "plt.ylabel('Prediction Value')\n",
        "plt.xlabel('True Value')"
      ],
      "metadata": {
        "colab": {
          "base_uri": "https://localhost:8080/",
          "height": 383
        },
        "id": "9R4w_rjM-1ae",
        "outputId": "79fc0d65-29b4-4edb-c047-e0f92cb43315"
      },
      "execution_count": 111,
      "outputs": [
        {
          "output_type": "stream",
          "name": "stdout",
          "text": [
            "MAE: 19.29509803921569\n",
            "RMSE: 25.620925156644\n",
            "R2: 97.67599752621517\n",
            "\n",
            "\n"
          ]
        },
        {
          "output_type": "execute_result",
          "data": {
            "text/plain": [
              "Text(0.5, 0, 'True Value')"
            ]
          },
          "metadata": {},
          "execution_count": 111
        },
        {
          "output_type": "display_data",
          "data": {
            "text/plain": [
              "<Figure size 432x288 with 1 Axes>"
            ],
            "image/png": "[encoded data removed]"
          },
          "metadata": {
            "needs_background": "light"
          }
        }
      ]
    },
    {
      "cell_type": "markdown",
      "source": [
        "# **6. Tuning Our Random Forest Regression Model"
      ],
      "metadata": {
        "id": "5gsXtR44_IAU"
      }
    },
    {
      "cell_type": "markdown",
      "source": [
        "At this stage we use GridSearchCV to find the best hyperparameters for our random forest regression model so that our model can predict better."
      ],
      "metadata": {
        "id": "HxSkofjlAA1i"
      }
    },
    {
      "cell_type": "code",
      "source": [
        "from sklearn.model_selection import GridSearchCV"
      ],
      "metadata": {
        "id": "Uh1AdRC4_Hb6"
      },
      "execution_count": 25,
      "outputs": []
    },
    {
      "cell_type": "code",
      "source": [
        "rfr = RandomForestRegressor()"
      ],
      "metadata": {
        "id": "C4iWbkA9-1MZ"
      },
      "execution_count": 26,
      "outputs": []
    },
    {
      "cell_type": "code",
      "source": [
        "param_grid = {'n_estimators': [64, 100, 128, 200, 300, 500],\n",
        "             'max_features': [2,3,4,6],\n",
        "             'bootstrap': [True,False]}"
      ],
      "metadata": {
        "id": "FVDaPHYu-1Cz"
      },
      "execution_count": 57,
      "outputs": []
    },
    {
      "cell_type": "code",
      "source": [
        "grid = GridSearchCV(rfr, param_grid=param_grid)"
      ],
      "metadata": {
        "id": "jv2xsZWF-017"
      },
      "execution_count": 58,
      "outputs": []
    },
    {
      "cell_type": "code",
      "source": [
        "grid.fit(X_train, y_train)"
      ],
      "metadata": {
        "colab": {
          "base_uri": "https://localhost:8080/"
        },
        "id": "TFyHgDn5Akbu",
        "outputId": "9e550684-19d6-4742-9b59-dabc16ee3067"
      },
      "execution_count": 59,
      "outputs": [
        {
          "output_type": "execute_result",
          "data": {
            "text/plain": [
              "GridSearchCV(estimator=RandomForestRegressor(),\n",
              "             param_grid={'bootstrap': [True, False],\n",
              "                         'max_features': [2, 3, 4, 6],\n",
              "                         'n_estimators': [64, 100, 128, 200, 300, 500]})"
            ]
          },
          "metadata": {},
          "execution_count": 59
        }
      ]
    },
    {
      "cell_type": "markdown",
      "source": [
        "This is the best hyperparameter for our Random Forest Regression Model to predict better."
      ],
      "metadata": {
        "id": "NTGCf6ktCndy"
      }
    },
    {
      "cell_type": "code",
      "source": [
        "grid.best_params_"
      ],
      "metadata": {
        "colab": {
          "base_uri": "https://localhost:8080/"
        },
        "id": "1-K2RjRZArfA",
        "outputId": "3c8d8cf5-e698-4ba2-e802-0d3307104392"
      },
      "execution_count": 60,
      "outputs": [
        {
          "output_type": "execute_result",
          "data": {
            "text/plain": [
              "{'bootstrap': False, 'max_features': 3, 'n_estimators': 128}"
            ]
          },
          "metadata": {},
          "execution_count": 60
        }
      ]
    },
    {
      "cell_type": "code",
      "source": [
        "y_prediction_2 = grid.predict(X_test)"
      ],
      "metadata": {
        "id": "SjC5UUCMArOl"
      },
      "execution_count": 65,
      "outputs": []
    },
    {
      "cell_type": "markdown",
      "source": [
        "# **7. Evaluating Our Random Forest Regression After Tuning**"
      ],
      "metadata": {
        "id": "L9o03RwPAyEq"
      }
    },
    {
      "cell_type": "markdown",
      "source": [
        "After doing GridSearchCV, it was found that the best hyperparameter for our model. Now we evaluate our model after we use the new hyperparameter and compare it with the default model before which to know which one is better to predict maximum horizontal stress (sigma_SHmax)."
      ],
      "metadata": {
        "id": "H5O07HVMBmvB"
      }
    },
    {
      "cell_type": "code",
      "source": [
        "#Evaluation\n",
        "MAE = mean_absolute_error(y_test, y_prediction_2)\n",
        "RMSE = np.sqrt(mean_squared_error(y_test, y_prediction_2))\n",
        "R2 = r2_score(y_test, y_prediction_2)*100\n",
        "print(f'MAE:', MAE)\n",
        "print(f'RMSE:', RMSE)\n",
        "print(f'R2:', R2)\n",
        "print('\\n')\n",
        "\n",
        "#Plot\n",
        "plt.scatter(y_test, y_prediction_2, c='blue')\n",
        "m, b = np.polyfit(y_test, y_prediction_2, 1)\n",
        "plt.plot(y_test, m*y_test + b, label='y={:.2f}+{:.2f}'.format(m,b), c='red')\n",
        "plt.legend(fontsize=16)\n",
        "plt.ylabel('Prediction Value')\n",
        "plt.xlabel('True Value')"
      ],
      "metadata": {
        "colab": {
          "base_uri": "https://localhost:8080/",
          "height": 383
        },
        "id": "o_KywHpEFXJX",
        "outputId": "a8bf109c-92c1-4326-ecce-19cd87b22b52"
      },
      "execution_count": 112,
      "outputs": [
        {
          "output_type": "stream",
          "name": "stdout",
          "text": [
            "MAE: 13.8203125\n",
            "RMSE: 19.6786630895368\n",
            "R2: 98.62899780155051\n",
            "\n",
            "\n"
          ]
        },
        {
          "output_type": "execute_result",
          "data": {
            "text/plain": [
              "Text(0.5, 0, 'True Value')"
            ]
          },
          "metadata": {},
          "execution_count": 112
        },
        {
          "output_type": "display_data",
          "data": {
            "text/plain": [
              "<Figure size 432x288 with 1 Axes>"
            ],
            "image/png": "[encoded data removed]"
          },
          "metadata": {
            "needs_background": "light"
          }
        }
      ]
    },
    {
      "cell_type": "markdown",
      "source": [
        "# **8. Conlusion**"
      ],
      "metadata": {
        "id": "wTVUsF5JFlIj"
      }
    },
    {
      "cell_type": "markdown",
      "source": [
        "After tuning our model, we get a new hyperparameter that makes our model more accurate in predicting the SHmax value. Previously, our Random Forest Regression Model was able to predict the maximum horizontal stress value of 97.6% accurately, with an RMSE value of 25.62 psi. After tuning with GridSearchCV to get a new hyperparameter, our Random Forest Regression Model is able to predict the maximum horizontal stress value of 98.6% accurately, with an RMSE value of 19.67 psi."
      ],
      "metadata": {
        "id": "dyB6yrdNFpyV"
      }
    },
    {
      "cell_type": "code",
      "source": [
        "#Model Evaluation Before Tuning\n",
        "MAE = mean_absolute_error(y_test, y_prediction)\n",
        "RMSE = np.sqrt(mean_squared_error(y_test, y_prediction))\n",
        "R2 = r2_score(y_test, y_prediction)*100\n",
        "print('MODEL EVALUATION AFTER TUNING')\n",
        "print(f'MAE:', MAE)\n",
        "print(f'RMSE:', RMSE)\n",
        "print(f'R2:', R2)\n",
        "print('\\n')\n",
        "\n",
        "#Model Evaluation After Tuning\n",
        "MAE = mean_absolute_error(y_test, y_prediction_2)\n",
        "RMSE = np.sqrt(mean_squared_error(y_test, y_prediction_2))\n",
        "R2 = r2_score(y_test, y_prediction_2)*100\n",
        "print('MODEL EVALUATION AFTER TUNING')\n",
        "print(f'MAE:', MAE)\n",
        "print(f'RMSE:', RMSE)\n",
        "print(f'R2:', R2)\n",
        "print('\\n')\n",
        "\n",
        "#SUBPLOT\n",
        "fig, axes = plt.subplots(nrows=1, ncols=2, figsize=(14, 5))\n",
        "axes[0].scatter(y_test, y_prediction)\n",
        "axes[1].scatter(y_test, y_prediction_2)\n",
        "fig.tight_layout()\n",
        "\n",
        "#PLOT 1\n",
        "m, b = np.polyfit(y_test, y_prediction, 1)\n",
        "axes[0].plot(y_test, m*y_test + b, label='y={:.2f}+{:.2f}'.format(m,b), c='red')\n",
        "axes[0].legend(fontsize=16)\n",
        "axes[0].title.set_text('Random Forest Regression Before Tuning')\n",
        "axes[0].set_xlabel('Actual Value')\n",
        "axes[0].set_ylabel('Predicted Value')\n",
        "\n",
        "#PLOT 2\n",
        "m, b = np.polyfit(y_test, y_prediction_2, 1)\n",
        "axes[1].plot(y_test, m*y_test + b, label='y={:.2f}+{:.2f}'.format(m,b), c='red')\n",
        "axes[1].legend(fontsize=16)\n",
        "axes[1].title.set_text('Random Forest Regression After Tuning')\n",
        "axes[1].set_xlabel('Actual Value')\n",
        "axes[1].set_ylabel('Predicted Value')\n",
        "plt.show()"
      ],
      "metadata": {
        "colab": {
          "base_uri": "https://localhost:8080/",
          "height": 607
        },
        "id": "8lTQF_cjYSCF",
        "outputId": "9bdace43-64f2-41ac-f61a-c749f00b098d"
      },
      "execution_count": 158,
      "outputs": [
        {
          "output_type": "stream",
          "name": "stdout",
          "text": [
            "MODEL EVALUATION AFTER TUNING\n",
            "MAE: 19.29509803921569\n",
            "RMSE: 25.620925156644\n",
            "R2: 97.67599752621517\n",
            "\n",
            "\n",
            "MODEL EVALUATION AFTER TUNING\n",
            "MAE: 13.8203125\n",
            "RMSE: 19.6786630895368\n",
            "R2: 98.62899780155051\n",
            "\n",
            "\n"
          ]
        },
        {
          "output_type": "display_data",
          "data": {
            "text/plain": [
              "<Figure size 1008x360 with 2 Axes>"
            ],
            "image/png": "[encoded data removed]"
          },
          "metadata": {
            "needs_background": "light"
          }
        }
      ]
    }
  ]
}